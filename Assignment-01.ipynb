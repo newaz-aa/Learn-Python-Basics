{
 "cells": [
  {
   "cell_type": "raw",
   "metadata": {},
   "source": [
    "You've write a python code to answer the questions. Answer in given cell only. Dont do any rough in the notebook. Use a separate notebook for that."
   ]
  },
  {
   "cell_type": "markdown",
   "metadata": {},
   "source": [
    "# Question: 01"
   ]
  },
  {
   "cell_type": "raw",
   "metadata": {},
   "source": [
    "A list is provided. Find the 2nd and 8th element from that list."
   ]
  },
  {
   "cell_type": "code",
   "execution_count": 2,
   "metadata": {},
   "outputs": [
    {
     "name": "stdout",
     "output_type": "stream",
     "text": [
      "2\n",
      "5\n"
     ]
    }
   ],
   "source": [
    "a=[2,5,3,'h',';',\"k\",7,10,[5,6]]\n",
    "\n",
    "# write your answer below -\n",
    "print(a[0])\n",
    "print(a[1])"
   ]
  },
  {
   "cell_type": "markdown",
   "metadata": {},
   "source": [
    "# Question: 02 "
   ]
  },
  {
   "cell_type": "raw",
   "metadata": {},
   "source": [
    "A string is provided. Find the 1st and last element from that string."
   ]
  },
  {
   "cell_type": "code",
   "execution_count": 2,
   "metadata": {},
   "outputs": [],
   "source": [
    "b='coffee'\n",
    "\n",
    "# write your answer below -\n",
    "\n"
   ]
  },
  {
   "cell_type": "markdown",
   "metadata": {},
   "source": [
    "# Question: 03"
   ]
  },
  {
   "cell_type": "raw",
   "metadata": {},
   "source": [
    "Given a list, convert it into a numpy array."
   ]
  },
  {
   "cell_type": "code",
   "execution_count": null,
   "metadata": {},
   "outputs": [],
   "source": [
    "m=[3,4,0,-4,-2,1,6]\n",
    "\n",
    "# write your answer below -\n",
    "\n"
   ]
  },
  {
   "cell_type": "markdown",
   "metadata": {},
   "source": [
    "# Question: 04"
   ]
  },
  {
   "cell_type": "raw",
   "metadata": {},
   "source": [
    "Given a list of integers, find the negative elements from the list."
   ]
  },
  {
   "cell_type": "code",
   "execution_count": null,
   "metadata": {},
   "outputs": [],
   "source": [
    "p=[-3,7,-4,0,1,6,-9]\n",
    "\n",
    "# write your answer below -\n",
    "\n"
   ]
  },
  {
   "cell_type": "markdown",
   "metadata": {},
   "source": [
    "# Question: 05"
   ]
  },
  {
   "cell_type": "raw",
   "metadata": {},
   "source": [
    "A list x is provided. Extract 25 and 'dec' from it."
   ]
  },
  {
   "cell_type": "code",
   "execution_count": 4,
   "metadata": {},
   "outputs": [],
   "source": [
    "x=['Nov', (5,15,25), ['p','q',[100,1000,['dec','jan']]],'apex']\n",
    "\n",
    "# write your answer below -\n"
   ]
  }
 ],
 "metadata": {
  "kernelspec": {
   "display_name": "Python 3",
   "language": "python",
   "name": "python3"
  },
  "language_info": {
   "codemirror_mode": {
    "name": "ipython",
    "version": 3
   },
   "file_extension": ".py",
   "mimetype": "text/x-python",
   "name": "python",
   "nbconvert_exporter": "python",
   "pygments_lexer": "ipython3",
   "version": "3.8.2"
  }
 },
 "nbformat": 4,
 "nbformat_minor": 4
}
