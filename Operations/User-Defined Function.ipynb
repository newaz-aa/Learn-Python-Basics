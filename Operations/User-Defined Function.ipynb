{
 "cells": [
  {
   "cell_type": "code",
   "execution_count": 1,
   "metadata": {},
   "outputs": [],
   "source": [
    "txt= 'we humans are alone in this world for a reason. We murdered and butchered everything that challenged our primacy'"
   ]
  },
  {
   "cell_type": "code",
   "execution_count": 2,
   "metadata": {},
   "outputs": [],
   "source": [
    "def freq_count(x):\n",
    "    out= {}\n",
    "\n",
    "    for i in x:\n",
    "        if i in out:\n",
    "            out[i] +=1\n",
    "        else:\n",
    "            out[i]=1\n",
    "    return out\n",
    "            \n"
   ]
  },
  {
   "cell_type": "code",
   "execution_count": 3,
   "metadata": {},
   "outputs": [
    {
     "data": {
      "text/plain": [
       "{'w': 2,\n",
       " 'e': 13,\n",
       " ' ': 18,\n",
       " 'h': 6,\n",
       " 'u': 4,\n",
       " 'm': 3,\n",
       " 'a': 9,\n",
       " 'n': 7,\n",
       " 's': 3,\n",
       " 'r': 10,\n",
       " 'l': 4,\n",
       " 'o': 5,\n",
       " 'i': 4,\n",
       " 't': 5,\n",
       " 'd': 6,\n",
       " 'f': 1,\n",
       " '.': 1,\n",
       " 'W': 1,\n",
       " 'b': 1,\n",
       " 'c': 3,\n",
       " 'v': 1,\n",
       " 'y': 2,\n",
       " 'g': 2,\n",
       " 'p': 1}"
      ]
     },
     "execution_count": 3,
     "metadata": {},
     "output_type": "execute_result"
    }
   ],
   "source": [
    "freq_count(txt)"
   ]
  },
  {
   "cell_type": "code",
   "execution_count": 4,
   "metadata": {},
   "outputs": [],
   "source": [
    "def my_f(a,b,c):\n",
    "    out=a+b+c\n",
    "    return out"
   ]
  },
  {
   "cell_type": "code",
   "execution_count": 5,
   "metadata": {},
   "outputs": [
    {
     "data": {
      "text/plain": [
       "10"
      ]
     },
     "execution_count": 5,
     "metadata": {},
     "output_type": "execute_result"
    }
   ],
   "source": [
    "my_f(3,9,-2)"
   ]
  },
  {
   "cell_type": "code",
   "execution_count": 6,
   "metadata": {},
   "outputs": [
    {
     "ename": "TypeError",
     "evalue": "my_f() missing 1 required positional argument: 'c'",
     "output_type": "error",
     "traceback": [
      "\u001b[1;31m---------------------------------------------------------------------------\u001b[0m",
      "\u001b[1;31mTypeError\u001b[0m                                 Traceback (most recent call last)",
      "\u001b[1;32m<ipython-input-6-35126c0c0073>\u001b[0m in \u001b[0;36m<module>\u001b[1;34m\u001b[0m\n\u001b[1;32m----> 1\u001b[1;33m \u001b[0mmy_f\u001b[0m\u001b[1;33m(\u001b[0m\u001b[1;36m3\u001b[0m\u001b[1;33m,\u001b[0m\u001b[1;36m7\u001b[0m\u001b[1;33m)\u001b[0m\u001b[1;33m\u001b[0m\u001b[1;33m\u001b[0m\u001b[0m\n\u001b[0m",
      "\u001b[1;31mTypeError\u001b[0m: my_f() missing 1 required positional argument: 'c'"
     ]
    }
   ],
   "source": [
    "my_f(3,7)"
   ]
  },
  {
   "cell_type": "markdown",
   "metadata": {},
   "source": [
    "# Providing arbitrary no of arguments"
   ]
  },
  {
   "cell_type": "code",
   "execution_count": 7,
   "metadata": {},
   "outputs": [],
   "source": [
    "def my_ff(*a):\n",
    "    print(a)\n",
    "    return "
   ]
  },
  {
   "cell_type": "code",
   "execution_count": 8,
   "metadata": {},
   "outputs": [
    {
     "name": "stdout",
     "output_type": "stream",
     "text": [
      "(4, 2, 9, 7)\n"
     ]
    }
   ],
   "source": [
    "my_ff(4,2,9,7)"
   ]
  },
  {
   "cell_type": "code",
   "execution_count": 9,
   "metadata": {},
   "outputs": [],
   "source": [
    "def my_ff(*a):\n",
    "    print(a)\n",
    "    out= sum(a[:-1])*a[-1]\n",
    "    return out"
   ]
  },
  {
   "cell_type": "code",
   "execution_count": 10,
   "metadata": {},
   "outputs": [
    {
     "name": "stdout",
     "output_type": "stream",
     "text": [
      "(4, 2, 9, 7)\n"
     ]
    },
    {
     "data": {
      "text/plain": [
       "105"
      ]
     },
     "execution_count": 10,
     "metadata": {},
     "output_type": "execute_result"
    }
   ],
   "source": [
    "my_ff(4,2,9,7)"
   ]
  },
  {
   "cell_type": "markdown",
   "metadata": {},
   "source": [
    "# Providing Optional Arguments"
   ]
  },
  {
   "cell_type": "raw",
   "metadata": {},
   "source": [
    "Keep an optional parameter named 'case' such that -\n",
    "    the default value of the parameter is False.\n",
    "    If the user defines it as True, then ignore case in the input text."
   ]
  },
  {
   "cell_type": "code",
   "execution_count": 15,
   "metadata": {},
   "outputs": [],
   "source": [
    "def freq_count_2(x, case=False):\n",
    "    out= {}\n",
    "    if case is False:\n",
    "\n",
    "        for i in x:\n",
    "            if i in out:\n",
    "                out[i] +=1\n",
    "            else:\n",
    "                out[i]=1\n",
    "    elif case is True:\n",
    "        for i in x.lower():\n",
    "            if i in out:\n",
    "                out[i] +=1\n",
    "            else:\n",
    "                out[i]=1\n",
    "    return out"
   ]
  },
  {
   "cell_type": "code",
   "execution_count": 13,
   "metadata": {},
   "outputs": [
    {
     "data": {
      "text/plain": [
       "{'w': 2,\n",
       " 'e': 13,\n",
       " ' ': 18,\n",
       " 'h': 6,\n",
       " 'u': 4,\n",
       " 'm': 3,\n",
       " 'a': 9,\n",
       " 'n': 7,\n",
       " 's': 3,\n",
       " 'r': 10,\n",
       " 'l': 4,\n",
       " 'o': 5,\n",
       " 'i': 4,\n",
       " 't': 5,\n",
       " 'd': 6,\n",
       " 'f': 1,\n",
       " '.': 1,\n",
       " 'W': 1,\n",
       " 'b': 1,\n",
       " 'c': 3,\n",
       " 'v': 1,\n",
       " 'y': 2,\n",
       " 'g': 2,\n",
       " 'p': 1}"
      ]
     },
     "execution_count": 13,
     "metadata": {},
     "output_type": "execute_result"
    }
   ],
   "source": [
    "freq_count_2(txt)"
   ]
  },
  {
   "cell_type": "code",
   "execution_count": 12,
   "metadata": {},
   "outputs": [
    {
     "data": {
      "text/plain": [
       "{'w': 2,\n",
       " 'e': 13,\n",
       " ' ': 18,\n",
       " 'h': 6,\n",
       " 'u': 4,\n",
       " 'm': 3,\n",
       " 'a': 9,\n",
       " 'n': 7,\n",
       " 's': 3,\n",
       " 'r': 10,\n",
       " 'l': 4,\n",
       " 'o': 5,\n",
       " 'i': 4,\n",
       " 't': 5,\n",
       " 'd': 6,\n",
       " 'f': 1,\n",
       " '.': 1,\n",
       " 'W': 1,\n",
       " 'b': 1,\n",
       " 'c': 3,\n",
       " 'v': 1,\n",
       " 'y': 2,\n",
       " 'g': 2,\n",
       " 'p': 1}"
      ]
     },
     "execution_count": 12,
     "metadata": {},
     "output_type": "execute_result"
    }
   ],
   "source": [
    "freq_count_2(txt,case=False)"
   ]
  },
  {
   "cell_type": "code",
   "execution_count": 17,
   "metadata": {},
   "outputs": [
    {
     "data": {
      "text/plain": [
       "{'w': 3,\n",
       " 'e': 13,\n",
       " ' ': 18,\n",
       " 'h': 6,\n",
       " 'u': 4,\n",
       " 'm': 3,\n",
       " 'a': 9,\n",
       " 'n': 7,\n",
       " 's': 3,\n",
       " 'r': 10,\n",
       " 'l': 4,\n",
       " 'o': 5,\n",
       " 'i': 4,\n",
       " 't': 5,\n",
       " 'd': 6,\n",
       " 'f': 1,\n",
       " '.': 1,\n",
       " 'b': 1,\n",
       " 'c': 3,\n",
       " 'v': 1,\n",
       " 'y': 2,\n",
       " 'g': 2,\n",
       " 'p': 1}"
      ]
     },
     "execution_count": 17,
     "metadata": {},
     "output_type": "execute_result"
    }
   ],
   "source": [
    "freq_count_2(txt,case=True)"
   ]
  },
  {
   "cell_type": "code",
   "execution_count": 18,
   "metadata": {},
   "outputs": [],
   "source": [
    "s='We were on A Break'"
   ]
  },
  {
   "cell_type": "code",
   "execution_count": 19,
   "metadata": {},
   "outputs": [
    {
     "data": {
      "text/plain": [
       "{'W': 1,\n",
       " 'e': 4,\n",
       " ' ': 4,\n",
       " 'w': 1,\n",
       " 'r': 2,\n",
       " 'o': 1,\n",
       " 'n': 1,\n",
       " 'A': 1,\n",
       " 'B': 1,\n",
       " 'a': 1,\n",
       " 'k': 1}"
      ]
     },
     "execution_count": 19,
     "metadata": {},
     "output_type": "execute_result"
    }
   ],
   "source": [
    "freq_count_2(s,case=False)"
   ]
  },
  {
   "cell_type": "code",
   "execution_count": 20,
   "metadata": {},
   "outputs": [
    {
     "data": {
      "text/plain": [
       "{'w': 2, 'e': 4, ' ': 4, 'r': 2, 'o': 1, 'n': 1, 'a': 2, 'b': 1, 'k': 1}"
      ]
     },
     "execution_count": 20,
     "metadata": {},
     "output_type": "execute_result"
    }
   ],
   "source": [
    "freq_count_2(s,case=True)"
   ]
  },
  {
   "cell_type": "code",
   "execution_count": 25,
   "metadata": {},
   "outputs": [],
   "source": [
    "#finish it yourself\n",
    "\n",
    "def freq_count_2(x, case=False,sort='d'):\n",
    "    out= {}\n",
    "    if case is False:\n",
    "\n",
    "        for i in x:\n",
    "            if i in out:\n",
    "                out[i] +=1\n",
    "            else:\n",
    "                out[i]=1\n",
    "    elif case is True:\n",
    "        for i in x.lower():\n",
    "            if i in out:\n",
    "                out[i] +=1\n",
    "            else:\n",
    "                out[i]=1\n",
    "                \n",
    "    if sort == 'd':\n",
    "        ...\n",
    "    elif sort == 'a':\n",
    "        ...\n",
    "        \n",
    "    return out"
   ]
  },
  {
   "cell_type": "code",
   "execution_count": null,
   "metadata": {},
   "outputs": [],
   "source": []
  }
 ],
 "metadata": {
  "kernelspec": {
   "display_name": "Python 3",
   "language": "python",
   "name": "python3"
  },
  "language_info": {
   "codemirror_mode": {
    "name": "ipython",
    "version": 3
   },
   "file_extension": ".py",
   "mimetype": "text/x-python",
   "name": "python",
   "nbconvert_exporter": "python",
   "pygments_lexer": "ipython3",
   "version": "3.8.2"
  }
 },
 "nbformat": 4,
 "nbformat_minor": 4
}
