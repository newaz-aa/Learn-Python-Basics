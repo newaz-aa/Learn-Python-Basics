{
 "cells": [
  {
   "cell_type": "markdown",
   "metadata": {},
   "source": [
    "You've to write a python code to answer the questions. Don't hardcode your solution.\n",
    "Answer in the given cell only. Don't do any rough in the notebook. Use a separate notebook for that."
   ]
  },
  {
   "cell_type": "markdown",
   "metadata": {},
   "source": [
    "# Question: 01"
   ]
  },
  {
   "cell_type": "raw",
   "metadata": {},
   "source": [
    "Abbreviate the given string. For example,\n",
    "\n",
    "input: 'dhaka University'\n",
    "output: 'DU'\n",
    "\n",
    "* Output letters must be capital"
   ]
  },
  {
   "cell_type": "code",
   "execution_count": 1,
   "metadata": {},
   "outputs": [],
   "source": [
    "a1= 'dhaka University'\n",
    "a2= 'North south university'\n",
    "\n",
    "# write your answer below -\n",
    "\n"
   ]
  },
  {
   "cell_type": "markdown",
   "metadata": {},
   "source": [
    "# Question: 02 "
   ]
  },
  {
   "cell_type": "raw",
   "metadata": {},
   "source": [
    "The list movie contains names of some movies.\n",
    "The list score contains rating of those movies.\n",
    "\n",
    "Sort the movie list based on names.\n",
    "Then sort the score according to associated movies.\n",
    "\n",
    "* There are many different ways to do this in python. you've already done it using numpy array.\n",
    "Now try it using list comprehension and zip method."
   ]
  },
  {
   "cell_type": "code",
   "execution_count": 2,
   "metadata": {},
   "outputs": [],
   "source": [
    "movie=['Avatar','Lost in translation','Enemy','Coherence','Avengers']\n",
    "score= [9,10,8.5,8,7]\n",
    "\n",
    "# write your answer below -\n",
    "\n"
   ]
  },
  {
   "cell_type": "markdown",
   "metadata": {},
   "source": [
    "# Question: 03"
   ]
  },
  {
   "cell_type": "raw",
   "metadata": {},
   "source": [
    "Given a tuple of integers, sort them based on the absolute value of the numbers. \n",
    "*The output should also be a tuple."
   ]
  },
  {
   "cell_type": "code",
   "execution_count": null,
   "metadata": {},
   "outputs": [],
   "source": [
    "m=(3,4,0,-4,-2,1,6)\n",
    "\n",
    "# ans = (0, 1, -2, 3, 4, -4, 6)\n",
    "\n",
    "# write your answer below -\n",
    "\n"
   ]
  },
  {
   "cell_type": "markdown",
   "metadata": {},
   "source": [
    "# Question: 04"
   ]
  },
  {
   "cell_type": "raw",
   "metadata": {},
   "source": [
    "Abbreviate the given string. But this time the string may contain some words(e.g. prepositions) that you need to ignore in the abbreviated form. Check the given examples.\n",
    "\n",
    "input: 'islamic university of technology'\n",
    "output: 'IUT'\n",
    "\n",
    "input: 'Laser Interferometer Gravitational-Wave Observatory'\n",
    "output: 'LIGO'"
   ]
  },
  {
   "cell_type": "code",
   "execution_count": null,
   "metadata": {},
   "outputs": [],
   "source": [
    "p1= 'Laser Interferometer Gravitational-Wave Observatory'\n",
    "p2= 'Density based spatial clustering of applications with noise'\n",
    "p3= 'Bangladesh University of Engineering and Technology'\n",
    "\n",
    "#p2-- DBSCAN\n",
    "\n",
    "# write your answer below -\n",
    "\n"
   ]
  },
  {
   "cell_type": "markdown",
   "metadata": {},
   "source": [
    "# Question: 05"
   ]
  },
  {
   "cell_type": "raw",
   "metadata": {},
   "source": [
    "Find the followings for the lists below-\n",
    "   1. common elements\n",
    "   2. elements that are present in b but not in a or c\n",
    "   3. elements that are present in b and a but not in c\n",
    "   4. elements in a or b or c\n",
    "   5. elements in a or c but not in both"
   ]
  },
  {
   "cell_type": "code",
   "execution_count": 3,
   "metadata": {},
   "outputs": [],
   "source": [
    "a= list('westworld')\n",
    "b= list('game of thrones')\n",
    "c= list('breaking bad')\n",
    "\n",
    "# write your answer below -\n",
    "\n"
   ]
  },
  {
   "cell_type": "markdown",
   "metadata": {},
   "source": [
    "# *Question: 06\n"
   ]
  },
  {
   "cell_type": "raw",
   "metadata": {},
   "source": [
    "In Cryptography, Caesar Cipher is one of the simplest form of encryption technique. The concept is very simple. You shift the given message by a fixed degree left or right.\n",
    "\n",
    "For Instance, \n",
    "    message= 'fire'\n",
    "    degree = +3\n",
    "    encrypted message = 'iluh'\n",
    "    \n",
    "*You only shift the alphanumeric characters; not punctuation or whitespace characters. \n",
    "*The characters is so be shifted within the same type i.e. a lowercase should be shifted to a lowercase, a numeric to a        numeric. \n",
    "For example, If you've ('z',+2), it should be shifted to ---> 'b'\n",
    "\n",
    "Hint: Take a look at dir(str) to see the methods that can be used to identify the type of string.\n",
    "Hint: ord(__) provieds the ascii value of a character. Careful!!, you cannot get vectorized output directly in python.\n",
    "Hint: chr(__) converts ascii value back to its character."
   ]
  },
  {
   "cell_type": "code",
   "execution_count": null,
   "metadata": {},
   "outputs": [],
   "source": [
    "message= 'i see fire'\n",
    "degree = -3\n",
    "\n",
    "# write your answer below -\n"
   ]
  },
  {
   "cell_type": "markdown",
   "metadata": {},
   "source": [
    "The following test cases are optional:"
   ]
  },
  {
   "cell_type": "code",
   "execution_count": null,
   "metadata": {},
   "outputs": [],
   "source": [
    "message= 'Radioactive'\n",
    "degree = +7\n",
    "\n",
    "# write your answer below -\n"
   ]
  },
  {
   "cell_type": "code",
   "execution_count": null,
   "metadata": {},
   "outputs": [],
   "source": [
    "message= '''\n",
    "Outta order? I'll show you outta order!\n",
    "You don't know what outta order is, Mr. Trask! \n",
    "I'd show you but I'm too old; I'm too tired; I'm too fuckin' blind.\n",
    "If I were the man I was 5 years ago I'd take a FLAME-THROWER to this place!\n",
    "Outta order. Who the hell you think you're talkin' to?\n",
    "I've been around, you know? There was a time I could see. \n",
    "And I have seen boys like these, younger than these, their arms torn out, their legs ripped off. \n",
    "But there isn't nothin' like the sight of an amputated spirit; there is no prosthetic for that. \n",
    "You think you're merely sendin' this splendid foot-soldier back home to Oregon with his tail between his legs, \n",
    "but I say you are executin' his SOUL!! \n",
    "And why?! Because he's not a Baird man! \n",
    "Baird men, ya hurt this boy, you're going to be Baird Bums, the lot of ya. \n",
    "And Harry, Jimmy, Trent, wherever you are out there, **** ***, too!\n",
    "... Al Pacino:D\n",
    "'''\n",
    "degree = -12\n",
    "\n",
    "# write your answer below -\n"
   ]
  },
  {
   "cell_type": "markdown",
   "metadata": {},
   "source": [
    "# *Question: 07"
   ]
  },
  {
   "cell_type": "markdown",
   "metadata": {},
   "source": [
    "So far we've used (x,y) notation to denote a chess piece's position on the chessboard. But the standard way of writing the position is called 'algebraic notation'. \n",
    "link: https://en.wikipedia.org/wiki/Algebraic_notation_(chess) \n",
    "\n",
    "For example, if the 'Queen' is at location (5,2) -- It is written as 'Qb4'. \n",
    "\n",
    "The reason is that you should look at the chess board from your point of view -- which is upside down.\n",
    "\n",
    "While writing it in the (x,y) format, you mean 5th row, 2nd column of your (8,8) matrix.\n",
    "In algerbraic notation, 'Q' stands for the particular piece- 'Queen'. [Uppercase]\n",
    "You're in the 2nd column--thats where 'b' comes from. [lowercase]\n",
    "And from your side of the board, row=5 is 4th row.\n",
    "\n",
    "\n",
    "Given the position of a chess piece in matrix notation, convert it into algebric notation. For example,\n",
    "Input: ['Bishop',(3,7)]\n",
    "Output: 'Bg6'\n"
   ]
  },
  {
   "cell_type": "code",
   "execution_count": null,
   "metadata": {},
   "outputs": [],
   "source": [
    "Input=['Bishop',(3,7)]\n",
    "#Output= 'Bg6'\n",
    "\n",
    "Input= ['pawn', (7,5)]\n",
    "#Output: 'e2'\n",
    "#for pawn, no indication letter is used\n",
    "\n",
    "# write your answer below -\n"
   ]
  },
  {
   "cell_type": "markdown",
   "metadata": {},
   "source": [
    "# Question: 08"
   ]
  },
  {
   "cell_type": "raw",
   "metadata": {},
   "source": [
    "Two lists are given. Find out how many numbers in the first list are higher or equal than the corresponding numbers in the second list."
   ]
  },
  {
   "cell_type": "code",
   "execution_count": null,
   "metadata": {},
   "outputs": [],
   "source": [
    "x1=[3,7,5,1,8,10,-4,-6]\n",
    "x2=[10,2,0,4,1,6,-4,-5]\n",
    "\n",
    "\n",
    "# write your answer below -\n"
   ]
  },
  {
   "cell_type": "markdown",
   "metadata": {},
   "source": [
    "# Question: 09"
   ]
  },
  {
   "cell_type": "raw",
   "metadata": {},
   "source": [
    "In a chessboard(shape=(8,8)), a rook is placed in the given position -(xr,yr). \n",
    "Opposition's pawn's position (xp,yp) is also given.\n",
    "Write a code to determine whether the rook can take out the pawn or not.\n",
    "\n",
    "*A rook can move any distance horizontally or vertically."
   ]
  },
  {
   "cell_type": "code",
   "execution_count": null,
   "metadata": {},
   "outputs": [],
   "source": [
    "xr,yr=(2,4)\n",
    "xp,yp= (5,3)\n",
    "\n",
    "#ans= False\n",
    "\n",
    "# write your answer below --\n"
   ]
  },
  {
   "cell_type": "code",
   "execution_count": null,
   "metadata": {},
   "outputs": [],
   "source": [
    "xr,yr=(8,4)\n",
    "xp,yp= (8,3)\n",
    "\n",
    "#ans= True\n",
    "\n",
    "# write your answer below --\n"
   ]
  },
  {
   "cell_type": "markdown",
   "metadata": {},
   "source": [
    "*Additional Exercise (optional):"
   ]
  },
  {
   "cell_type": "raw",
   "metadata": {},
   "source": [
    "Now, the position is given in the standard format and \n",
    "there are several pieces of opposition given in a list.\n",
    "Write a code to determine whether the rook can take out the opposition's \"pawn\" or not.\n"
   ]
  },
  {
   "cell_type": "code",
   "execution_count": 1,
   "metadata": {},
   "outputs": [],
   "source": [
    "rook= 'Rd4'\n",
    "opp = ['Qe2','Kd5','Nh1','d2']\n",
    "\n",
    "#ans= True\n",
    "\n",
    "# write your answer below --\n"
   ]
  },
  {
   "cell_type": "code",
   "execution_count": 2,
   "metadata": {},
   "outputs": [],
   "source": [
    "rook= 'Rf6'\n",
    "opp = ['f2','h2','Qe2','Kd5','Nf4','b6','Bc6']\n",
    "\n",
    "#ans= False\n",
    "\n",
    "# write your answer below --\n"
   ]
  },
  {
   "cell_type": "markdown",
   "metadata": {},
   "source": [
    "# Question: 10"
   ]
  },
  {
   "cell_type": "raw",
   "metadata": {},
   "source": [
    "Before mid, you were introduced to Iccanobif sequence.\n",
    "Now do the same in python -- Create a list containing first 20 numbers in the iccanobif sequence.\n"
   ]
  },
  {
   "cell_type": "code",
   "execution_count": null,
   "metadata": {},
   "outputs": [],
   "source": [
    "#write your answer below -- \n"
   ]
  },
  {
   "cell_type": "markdown",
   "metadata": {},
   "source": [
    "# Question: 11"
   ]
  },
  {
   "cell_type": "raw",
   "metadata": {},
   "source": [
    "Given a list of names of students, add a 'Mr.' in front for male and a 'Ms.' for female.\n"
   ]
  },
  {
   "cell_type": "code",
   "execution_count": 2,
   "metadata": {},
   "outputs": [],
   "source": [
    "name=[('Evaaaaaa','female'),('Wall-e','male')]\n",
    "\n",
    "#ans= ['Ms. Evaaaaaa', 'Mr.Wall-e']\n",
    "#write your answer below -- \n"
   ]
  },
  {
   "cell_type": "code",
   "execution_count": 3,
   "metadata": {},
   "outputs": [
    {
     "name": "stdout",
     "output_type": "stream",
     "text": [
      "('Evaaaaaa', 'female')\n",
      "('Wall-e', 'male')\n"
     ]
    }
   ],
   "source": [
    "x=[]\n",
    "for i in name:\n",
    "    print(i)"
   ]
  },
  {
   "cell_type": "code",
   "execution_count": 7,
   "metadata": {},
   "outputs": [],
   "source": [
    "for i in name:\n",
    "    if i[1]=='female':\n",
    "        x.append('Ms.'+i[0])\n",
    "    else:\n",
    "        x.append('Mr.'+i[0])"
   ]
  },
  {
   "cell_type": "code",
   "execution_count": 8,
   "metadata": {},
   "outputs": [
    {
     "data": {
      "text/plain": [
       "['Ms.Evaaaaaa', 'Ms.Evaaaaaa', 'Mr.Wall-e']"
      ]
     },
     "execution_count": 8,
     "metadata": {},
     "output_type": "execute_result"
    }
   ],
   "source": [
    "x"
   ]
  },
  {
   "cell_type": "code",
   "execution_count": null,
   "metadata": {},
   "outputs": [],
   "source": []
  }
 ],
 "metadata": {
  "kernelspec": {
   "display_name": "Python 3",
   "language": "python",
   "name": "python3"
  },
  "language_info": {
   "codemirror_mode": {
    "name": "ipython",
    "version": 3
   },
   "file_extension": ".py",
   "mimetype": "text/x-python",
   "name": "python",
   "nbconvert_exporter": "python",
   "pygments_lexer": "ipython3",
   "version": "3.8.2"
  }
 },
 "nbformat": 4,
 "nbformat_minor": 4
}
