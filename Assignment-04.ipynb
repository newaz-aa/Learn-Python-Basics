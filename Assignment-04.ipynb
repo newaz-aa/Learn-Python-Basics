{
 "cells": [
  {
   "cell_type": "markdown",
   "metadata": {},
   "source": [
    "You've to write a python code to answer the questions. Don't hardcode your solution.\n",
    "Answer in the given cell only. Don't do any rough in the notebook. Use a separate notebook for that."
   ]
  },
  {
   "cell_type": "markdown",
   "metadata": {},
   "source": [
    "# Question: 01"
   ]
  },
  {
   "cell_type": "raw",
   "metadata": {},
   "source": [
    "Create a dictionary named 'st1' with keys - name, ID, year.\n",
    "Create another dictionary named 'st2' with keys - name, ID, year, room_no, cgpa.\n",
    "Create another dictionary named 'st3' with keys - name, ID, year, cgpa.\n",
    "\n",
    "*use different values for different students.\n",
    "\n",
    "Finally create a new dictionary that contains all three of those dictionaries. \n",
    "Name it as 'st'.\n"
   ]
  },
  {
   "cell_type": "code",
   "execution_count": 4,
   "metadata": {},
   "outputs": [],
   "source": [
    "# write your answer below -\n",
    "\n"
   ]
  },
  {
   "cell_type": "markdown",
   "metadata": {},
   "source": [
    "# Question: 02 "
   ]
  },
  {
   "cell_type": "raw",
   "metadata": {},
   "source": [
    "Using the dictionary 'st' that you created in the first question,\n",
    "\n",
    "1. find the average cgpa of the students.\n",
    "2. The first student's cgpa was not assigned in ques-01. Assign this key now, then calculate the average cgpa of the students again.\n",
    "\n",
    "3. Sort the students based on their ID.\n"
   ]
  },
  {
   "cell_type": "markdown",
   "metadata": {},
   "source": [
    "write your answer below -"
   ]
  },
  {
   "cell_type": "code",
   "execution_count": null,
   "metadata": {},
   "outputs": [],
   "source": [
    "#1\n"
   ]
  },
  {
   "cell_type": "code",
   "execution_count": null,
   "metadata": {},
   "outputs": [],
   "source": [
    "#2\n"
   ]
  },
  {
   "cell_type": "code",
   "execution_count": null,
   "metadata": {},
   "outputs": [],
   "source": [
    "#3\n"
   ]
  },
  {
   "cell_type": "markdown",
   "metadata": {},
   "source": [
    "# Question: 03"
   ]
  },
  {
   "cell_type": "markdown",
   "metadata": {},
   "source": [
    "Write a function that takes a list of integers and returns a logical array indicating if the numbers are prime or not.\n",
    "Function name: 'ques_03'\n",
    "\n",
    "Hint: To check if a number is prime or not, you can try the 'sympy' module."
   ]
  },
  {
   "cell_type": "code",
   "execution_count": null,
   "metadata": {},
   "outputs": [],
   "source": [
    "# write your function below -\n",
    "\n"
   ]
  },
  {
   "cell_type": "code",
   "execution_count": null,
   "metadata": {},
   "outputs": [],
   "source": [
    "# run this cell to check ur function\n",
    "\n",
    "import numpy as np\n",
    "x1=np.random.randint(20,1000,10)\n",
    "\n",
    "ques_03(x1)"
   ]
  },
  {
   "cell_type": "code",
   "execution_count": null,
   "metadata": {},
   "outputs": [],
   "source": [
    "# run this cell to check ur function\n",
    "\n",
    "x2=[1,11,21,31,111,211,311,411,511,507,503,987,79,67]\n",
    "\n",
    "ques_03(x2)"
   ]
  },
  {
   "cell_type": "markdown",
   "metadata": {},
   "source": [
    "# Question: 04"
   ]
  },
  {
   "cell_type": "raw",
   "metadata": {},
   "source": [
    "Circular prime-\n",
    "A circular prime is a prime number with the property that the number generated at each intermediate step when cyclically permuting its digits will be prime. For example, 1193 is a circular prime, since 1931, 9311 and 3119 all are also prime.\n",
    "\n",
    "Write a function that takes an integer or list of integers and returns logical True or False based on whether the number is a circular prime number or not. \n"
   ]
  },
  {
   "cell_type": "code",
   "execution_count": null,
   "metadata": {},
   "outputs": [],
   "source": [
    "# write your answer below -\n",
    "# function name: ques_04\n",
    "\n"
   ]
  },
  {
   "cell_type": "code",
   "execution_count": null,
   "metadata": {},
   "outputs": [],
   "source": [
    "x1=9377\n",
    "#ans= True\n",
    "\n",
    "ques_04(x1)\n"
   ]
  },
  {
   "cell_type": "code",
   "execution_count": null,
   "metadata": {},
   "outputs": [],
   "source": [
    "x2=[9, 13, 59, 719, 1335]\n",
    "\n",
    "ques_04(x2)\n"
   ]
  },
  {
   "cell_type": "markdown",
   "metadata": {},
   "source": [
    "# Question: 05"
   ]
  },
  {
   "cell_type": "markdown",
   "metadata": {},
   "source": [
    "Given a string, find out how many times each 'word' appeared. \n",
    "Sort them by their frequency of appearance.\n",
    "\n",
    "Your code should return a dictionary with keys-words and values-count.\n",
    "\n",
    "*Do not use the collections module. Try to practice how to work with a dictionary."
   ]
  },
  {
   "cell_type": "code",
   "execution_count": 3,
   "metadata": {},
   "outputs": [],
   "source": [
    "s= '''\n",
    "A greyhound is a racing dog. \n",
    "Spends its life running in circles, chasing a bit of felt made up like a rabbit.\n",
    "One day, we took it to the park. Our dad had warned us how fast that dog was, but we couldn't resist. \n",
    "So, my brother took off the leash, and in that instant, the dog spotted a cat. \n",
    "I imagine it must have looked just like that piece of felt.\n",
    "He ran. Never saw a thing as beautiful as that old dog running.\n",
    "Until, at last, he finally caught it. And to the horror of everyone, he killed that little cat. \n",
    "Tore it to pieces. Then he just sat there, confused. \n",
    "That dog had spent its whole life trying to catch that thing. Now it had no idea what to do.\n",
    "'''\n",
    "\n",
    "# write your answer below -\n",
    "\n"
   ]
  },
  {
   "cell_type": "markdown",
   "metadata": {},
   "source": [
    "# Question: 06\n"
   ]
  },
  {
   "cell_type": "raw",
   "metadata": {},
   "source": [
    "You solved the following question in last week's assignment.\n",
    "Now do the same but this time do that by creating a function named 'ques_06'.\n",
    "\n",
    "Your function should have 2 compulsory arguments( 1,2 ) and 1 optional argument(3).\n",
    "   1. message-- a string\n",
    "   2. degree -- a positive integer\n",
    "   3. direction -- 'right' or 'left'.  [default= 'right']\n",
    "\n",
    "* One additional note. Last time, the degree in the test cases was <26.\n",
    "  But it can be of any value. \n",
    "\n",
    "Hint: A very simple trick can help you tackle large degrees."
   ]
  },
  {
   "cell_type": "raw",
   "metadata": {},
   "source": [
    "In Cryptography, Caesar Cipher is one of the simplest form of encryption technique. The concept is very simple. You shift the given message by a fixed degree left or right.\n",
    "\n",
    "For Instance, \n",
    "    message= 'fire'\n",
    "    degree = 3\n",
    "    direction= 'right'\n",
    "    encrypted message = 'iluh'\n",
    "    \n",
    "*You only shift the alphanumeric characters; not punctuation or whitespace characters. \n",
    "*The characters is so be shifted within the same type i.e. a lowercase should be shifted to a lowercase, a numeric to a        numeric. \n",
    "For example, If you've ('z',+2), it should be shifted to ---> 'b'\n",
    "\n",
    "Hint: Take a look at dir(str) to see the methods that can be used to identify the type of string.\n",
    "Hint: ord(__) provieds the ascii value of a character. Careful!!, you cannot get vectorized output directly in python.\n",
    "Hint: chr(__) converts ascii value back to its character."
   ]
  },
  {
   "cell_type": "code",
   "execution_count": 2,
   "metadata": {},
   "outputs": [],
   "source": [
    "# write ur function below:\n",
    "#name: ques_06\n"
   ]
  },
  {
   "cell_type": "code",
   "execution_count": null,
   "metadata": {},
   "outputs": [],
   "source": [
    "message= 'i see fire'\n",
    "degree = 3\n",
    "\n",
    "ques_06(message,degree)\n"
   ]
  },
  {
   "cell_type": "code",
   "execution_count": null,
   "metadata": {},
   "outputs": [],
   "source": [
    "message= 'Radioactive'\n",
    "degree = 77\n",
    "direction= 'left'\n",
    "\n",
    "ques_06(message,degree,direction)\n"
   ]
  },
  {
   "cell_type": "code",
   "execution_count": 2,
   "metadata": {},
   "outputs": [],
   "source": [
    "message= '''\n",
    "Outta order? I'll show you outta order!\n",
    "You don't know what outta order is, Mr. Trask! \n",
    "I'd show you but I'm too old; I'm too tired; I'm too fuckin' blind.\n",
    "If I were the man I was 5 years ago I'd take a FLAME-THROWER to this place!\n",
    "Outta order. Who the hell you think you're talkin' to?\n",
    "I've been around, you know? There was a time I could see. \n",
    "And I have seen boys like these, younger than these, their arms torn out, their legs ripped off. \n",
    "But there isn't nothin' like the sight of an amputated spirit; there is no prosthetic for that. \n",
    "You think you're merely sendin' this splendid foot-soldier back home to Oregon with his tail between his legs, \n",
    "but I say you are executin' his SOUL!! \n",
    "And why?! Because he's not a Baird man! \n",
    "Baird men, ya hurt this boy, you're going to be Baird Bums, the lot of ya. \n",
    "And Harry, Jimmy, Trent, wherever you are out there, **** ***, too!\n",
    "... Al Pacino:D\n",
    "'''\n",
    "degree = 1223\n",
    "direction = 'right'\n",
    "\n",
    "ques_06(message,degree,direction)\n",
    "\n"
   ]
  },
  {
   "cell_type": "markdown",
   "metadata": {},
   "source": [
    "# Question: 07"
   ]
  },
  {
   "cell_type": "markdown",
   "metadata": {},
   "source": [
    "If you search \"conway's game of life\" in google, you'll see an animation will appear. you can 'toogle fullscreen'(above the wikipedia page) and observe the animation.\n",
    "\n",
    "It is a simple game devised by John Conway to contemplate cellular automation.\n",
    "you can find the rules of the game here: https://en.wikipedia.org/wiki/Conway's_Game_of_Life\n",
    "\n",
    "For this question, you'll be given a simple 'toroidal' board represented by a matrix (numppy array).\n",
    "The matrix represents the present state.\n",
    "The live cells are represented by 1 and dead cells by 0.\n",
    "\n",
    "Your function should return the next state of the board.\n"
   ]
  },
  {
   "cell_type": "raw",
   "metadata": {},
   "source": [
    "#present state\n",
    "a =[1 0 0 0; \n",
    "    0 1 0 0; \n",
    "    0 0 1 0;\n",
    "    1 0 0 1]\n",
    "\n",
    "#next state -\n",
    "\n",
    "    [1 1 0 1; \n",
    "     0 1 0 0; \n",
    "     1 1 1 1; \n",
    "     1 1 0 1]\n",
    "     \n",
    "\n"
   ]
  },
  {
   "cell_type": "code",
   "execution_count": null,
   "metadata": {},
   "outputs": [],
   "source": [
    "# write your answer below -\n"
   ]
  },
  {
   "cell_type": "code",
   "execution_count": 3,
   "metadata": {},
   "outputs": [
    {
     "data": {
      "text/plain": [
       "[[1, 0, 0, 0], [0, 1, 0, 0], [0, 0, 1, 0], [1, 0, 0, 1]]"
      ]
     },
     "execution_count": 3,
     "metadata": {},
     "output_type": "execute_result"
    }
   ],
   "source": [
    "a =[[1, 0, 0 ,0], \n",
    "    [0 ,1 ,0, 0], \n",
    "    [0, 0, 1 ,0],\n",
    "    [1, 0, 0, 1]]\n",
    "\n",
    "ques_07(a)"
   ]
  },
  {
   "cell_type": "code",
   "execution_count": null,
   "metadata": {},
   "outputs": [],
   "source": [
    "aa=[[0,     1  ,   1,     0],\n",
    " [1 ,    1  ,   1 ,    0],\n",
    " [0  ,   0  ,   1,     0],\n",
    " [0  ,   0  ,   0 ,    0]]\n",
    "\n",
    "ques_07(aa)"
   ]
  },
  {
   "cell_type": "markdown",
   "metadata": {},
   "source": [
    "# Question: 08"
   ]
  },
  {
   "cell_type": "raw",
   "metadata": {},
   "source": [
    "A numpy array is given. find the summation of the elements that lies over the 'z' pattern.\n",
    "\n",
    "For instance,\n",
    "\n",
    "a= [ [2, 5 , 7],\n",
    "     [1, 0, -8],\n",
    "     [3, -4, 9] ]\n",
    "     \n",
    "ans= 2+5+7+0+3-4+9 = 22 \n",
    "\n",
    "*input will always be a square matrix"
   ]
  },
  {
   "cell_type": "code",
   "execution_count": null,
   "metadata": {},
   "outputs": [],
   "source": [
    "# write your answer below -\n"
   ]
  },
  {
   "cell_type": "code",
   "execution_count": null,
   "metadata": {},
   "outputs": [],
   "source": [
    "a2= [ [2, 5 , 7],\n",
    "     [1, 0, -8],\n",
    "     [3, -4, 9] ]\n",
    "ques_08(a2)\n"
   ]
  },
  {
   "cell_type": "code",
   "execution_count": null,
   "metadata": {},
   "outputs": [],
   "source": [
    "import numpy as np\n",
    "b2= np.ones((4,4))\n",
    "\n",
    "ques_08(b2)"
   ]
  },
  {
   "cell_type": "markdown",
   "metadata": {},
   "source": [
    "# Question: 09"
   ]
  },
  {
   "cell_type": "markdown",
   "metadata": {},
   "source": [
    "Write a function to find the 1st n elements of the Catalan numbers sequence."
   ]
  },
  {
   "cell_type": "code",
   "execution_count": null,
   "metadata": {},
   "outputs": [],
   "source": [
    "# write your answer below --\n"
   ]
  },
  {
   "cell_type": "code",
   "execution_count": null,
   "metadata": {},
   "outputs": [],
   "source": [
    "ques_09(5)\n"
   ]
  },
  {
   "cell_type": "code",
   "execution_count": null,
   "metadata": {},
   "outputs": [],
   "source": [
    "ques_09(14)\n"
   ]
  },
  {
   "cell_type": "markdown",
   "metadata": {},
   "source": [
    "# Question: 10"
   ]
  },
  {
   "cell_type": "markdown",
   "metadata": {},
   "source": [
    "Return the name of the movies with ratings between xl and xr.(inclusive)\n",
    "Both xl and xr are input to your function.\n",
    "\n",
    "xr is optional argument. If not given, assume 10."
   ]
  },
  {
   "cell_type": "code",
   "execution_count": null,
   "metadata": {},
   "outputs": [],
   "source": [
    "movies= {'rio':8, \n",
    "        'I robot':7.5,\n",
    "        'Interstellar':9.5,\n",
    "        'Obsessed':8.5,\n",
    "        'Iron man':6.5,\n",
    "        'The Pacific':9}\n",
    "\n",
    "#write your function below -- \n"
   ]
  },
  {
   "cell_type": "code",
   "execution_count": null,
   "metadata": {},
   "outputs": [],
   "source": [
    "ques_10(7)\n"
   ]
  },
  {
   "cell_type": "code",
   "execution_count": null,
   "metadata": {},
   "outputs": [],
   "source": [
    "ques_10(8,8.5)\n"
   ]
  }
 ],
 "metadata": {
  "kernelspec": {
   "display_name": "Python 3",
   "language": "python",
   "name": "python3"
  },
  "language_info": {
   "codemirror_mode": {
    "name": "ipython",
    "version": 3
   },
   "file_extension": ".py",
   "mimetype": "text/x-python",
   "name": "python",
   "nbconvert_exporter": "python",
   "pygments_lexer": "ipython3",
   "version": "3.8.2"
  }
 },
 "nbformat": 4,
 "nbformat_minor": 4
}
