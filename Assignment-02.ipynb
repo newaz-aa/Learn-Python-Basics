{
 "cells": [
  {
   "cell_type": "raw",
   "metadata": {},
   "source": [
    "You've to write a python code to answer the questions. Don't hardcode your solution.\n",
    "Answer in the given cell only. Don't do any rough in the notebook. Use a separate notebook for that."
   ]
  },
  {
   "cell_type": "markdown",
   "metadata": {},
   "source": [
    "# Question: 01"
   ]
  },
  {
   "cell_type": "raw",
   "metadata": {},
   "source": [
    "A list is provided. \n",
    "--- 1. First invert it. Then join it to the original list.\n",
    "--- 2. create two replicas of the updated list and join all three together.\n"
   ]
  },
  {
   "cell_type": "code",
   "execution_count": 1,
   "metadata": {},
   "outputs": [],
   "source": [
    "a=[2,5,3,'h',';',\"k\",7,10,[5,6]]\n",
    "\n",
    "# write your answer below -\n"
   ]
  },
  {
   "cell_type": "markdown",
   "metadata": {},
   "source": [
    "# Question: 02 "
   ]
  },
  {
   "cell_type": "raw",
   "metadata": {},
   "source": [
    "The list movie contains names of some movies.\n",
    "The list score contains rating of those movies.\n",
    "\n",
    "Sort the score list in a descending manner.\n",
    "Then sort the movie list according to their ratings.\n",
    "\n",
    "* There are many different ways to do this in python. We'll look into some of them gradually.\n",
    "* For now, you may try using numpy array\n",
    "* Hint: np.argsort()"
   ]
  },
  {
   "cell_type": "code",
   "execution_count": 1,
   "metadata": {},
   "outputs": [],
   "source": [
    "movie=['Avatar','Lost in translation','Enemy','Coherence','Avengers']\n",
    "score= [9,10,8.5,8,7]\n",
    "\n",
    "# write your answer below -\n",
    "\n"
   ]
  },
  {
   "cell_type": "markdown",
   "metadata": {},
   "source": [
    "# Question: 03"
   ]
  },
  {
   "cell_type": "raw",
   "metadata": {},
   "source": [
    "Given a list of integers, for each of the elements -\n",
    "--- if an item is divisible by 2, square it\n",
    "--- if it is divisible by 3, cube it\n",
    "--- otherwise, remove the item from the list\n",
    "\n",
    "display the updated list.\n",
    "\n",
    "Hint: Double asterisk sign can be used to perform power operation. 10**2=100"
   ]
  },
  {
   "cell_type": "code",
   "execution_count": null,
   "metadata": {},
   "outputs": [],
   "source": [
    "m=[3,4,0,-4,-2,1,6]\n",
    "\n",
    "# write your answer below -\n",
    "\n"
   ]
  },
  {
   "cell_type": "markdown",
   "metadata": {},
   "source": [
    "# Question: 04"
   ]
  },
  {
   "cell_type": "raw",
   "metadata": {},
   "source": [
    "Given a list of integers, find the top 4 elements from the list."
   ]
  },
  {
   "cell_type": "code",
   "execution_count": null,
   "metadata": {},
   "outputs": [],
   "source": [
    "p=[-3,7,-4,0,1,6,-9]\n",
    "\n",
    "# write your answer below -\n",
    "\n"
   ]
  },
  {
   "cell_type": "markdown",
   "metadata": {},
   "source": [
    "# Question: 05"
   ]
  },
  {
   "cell_type": "raw",
   "metadata": {},
   "source": [
    "A list x is provided. Remove any item which is not a string.\n",
    "\n",
    "Hint: you may use isinstance( ___ , datatype) to check if an item is of a particular datatype.\n",
    "      eg. isinstance('dhaka',str) = True"
   ]
  },
  {
   "cell_type": "code",
   "execution_count": 3,
   "metadata": {},
   "outputs": [
    {
     "name": "stdout",
     "output_type": "stream",
     "text": [
      "False\n",
      "['Nov', ['p', 'q', [100, 1000, ['dec', 'jan']]], 'apex']\n"
     ]
    }
   ],
   "source": [
    "x=['Nov', (5,15,25), ['p','q',[100,1000,['dec','jan']]],'apex']\n",
    "\n",
    "# write your answer below -\n",
    "\n",
    "for i in x:\n",
    "    if not isinstance(i,str):\n",
    "        print(isinstance(i,str))\n",
    "        x.remove(i)\n",
    "print(x)"
   ]
  },
  {
   "cell_type": "markdown",
   "metadata": {},
   "source": [
    "# Question: 06\n"
   ]
  },
  {
   "cell_type": "raw",
   "metadata": {},
   "source": [
    "a list of years is given. Write a logical array corresponding to the original list based on whether each item(year) in the list is a leap year or not.\n",
    "\n",
    "*check the web to see how to find whether a year is a leap year."
   ]
  },
  {
   "cell_type": "code",
   "execution_count": null,
   "metadata": {},
   "outputs": [],
   "source": [
    "year=[2020,2015,2014,2000,1900,1950,1944,1896,1800,1820,1600]\n",
    "\n",
    "# write your answer below -\n"
   ]
  },
  {
   "cell_type": "markdown",
   "metadata": {},
   "source": [
    "# Question: 07"
   ]
  },
  {
   "cell_type": "raw",
   "metadata": {},
   "source": [
    "A list of length 2n is given. a=[x1,x2,....,xn,y1,y2,...,yn]\n",
    "\n",
    "Convert the list as follows- out=[x1,y1,x2,y2,....,xn,yn]\n"
   ]
  },
  {
   "cell_type": "code",
   "execution_count": null,
   "metadata": {},
   "outputs": [],
   "source": [
    "a=[3,6,1,2,'a','c','b','z']\n",
    "\n",
    "# write your answer below -\n"
   ]
  },
  {
   "cell_type": "markdown",
   "metadata": {},
   "source": [
    "# Question: 08"
   ]
  },
  {
   "cell_type": "raw",
   "metadata": {},
   "source": [
    "Two lists are given. First calculate the pairwise product. Then find the average value and summation of those products.\n",
    "\n",
    "*pairwise product means: x1[0]*x2[0]"
   ]
  },
  {
   "cell_type": "code",
   "execution_count": null,
   "metadata": {},
   "outputs": [],
   "source": [
    "x1=[3,7,5,1,8,10]\n",
    "x2=[10,2,0,4,1,6]\n",
    "\n",
    "\n",
    "# write your answer below -\n"
   ]
  },
  {
   "cell_type": "markdown",
   "metadata": {},
   "source": [
    "# Question: 09"
   ]
  },
  {
   "cell_type": "raw",
   "metadata": {},
   "source": [
    "A numpy array is given. Find the maximum value of -- the whole matrix, column-wise, row-wise.\n",
    "\n",
    "Hint: there is an optional parameter in the function named 'axis'. You can use that to perform above operations just like you did in matlab."
   ]
  },
  {
   "cell_type": "code",
   "execution_count": null,
   "metadata": {},
   "outputs": [],
   "source": [
    "import numpy as np\n",
    "mat= np.random.randint(3,100,(3,7))\n",
    "\n",
    "# write your answer below --\n"
   ]
  },
  {
   "cell_type": "code",
   "execution_count": null,
   "metadata": {},
   "outputs": [],
   "source": [
    "mat2 = np.random.randint(200,2000,(1,5))\n",
    "\n",
    "# write your answer below --\n"
   ]
  },
  {
   "cell_type": "markdown",
   "metadata": {},
   "source": [
    "# Question: 10"
   ]
  },
  {
   "cell_type": "raw",
   "metadata": {},
   "source": [
    "Before mid, you saw how to find the fibonacci numbers.\n",
    "Now do the same in python -- Create a list containing first 20 fibonacci numbers."
   ]
  },
  {
   "cell_type": "code",
   "execution_count": null,
   "metadata": {},
   "outputs": [],
   "source": [
    "#write your answer below -- "
   ]
  }
 ],
 "metadata": {
  "kernelspec": {
   "display_name": "Python 3",
   "language": "python",
   "name": "python3"
  },
  "language_info": {
   "codemirror_mode": {
    "name": "ipython",
    "version": 3
   },
   "file_extension": ".py",
   "mimetype": "text/x-python",
   "name": "python",
   "nbconvert_exporter": "python",
   "pygments_lexer": "ipython3",
   "version": "3.8.2"
  }
 },
 "nbformat": 4,
 "nbformat_minor": 4
}
