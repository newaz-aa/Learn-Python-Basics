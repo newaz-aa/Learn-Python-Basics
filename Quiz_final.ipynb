{
 "cells": [
  {
   "cell_type": "markdown",
   "metadata": {},
   "source": [
    "# Question - 01"
   ]
  },
  {
   "cell_type": "raw",
   "metadata": {},
   "source": [
    "Given a 2D array of size (m,n) - \n",
    "sort all the diagonal elements of the array.\n",
    "\n",
    "Write a function that will take the array and a boolean as input and provide the sorted array as output.\n",
    "\n",
    "The default value for boolen is True.\n",
    "If set to False, sort the anti-diagonal elements"
   ]
  },
  {
   "cell_type": "raw",
   "metadata": {},
   "source": [
    "For example,\n",
    "input = [[1,2,3],\n",
    "         [4,0,1],\n",
    "         [9,3,10]]\n",
    "         \n",
    "output= [[0,1,3],\n",
    "         [3,1,2],\n",
    "         [9,4,10]]"
   ]
  },
  {
   "cell_type": "raw",
   "metadata": {},
   "source": [
    "main diagonal elements are = 1,0,10   --- sorted as -> 0,1,10\n",
    "diag 1 elements are        = 2,1      --- sorted as -> 1,2\n",
    "diag 2 elements are        = 3        --- sorted as -> 3\n",
    "diag -1 elements are       = 4,3      --- sorted as -> 3,4\n",
    "diag -2 elements are       = 9        --- sorted as -> 9\n"
   ]
  },
  {
   "cell_type": "code",
   "execution_count": 1,
   "metadata": {},
   "outputs": [],
   "source": [
    "def ques_01(arr, diag=True):\n",
    "    \n",
    "    \n",
    "    return "
   ]
  },
  {
   "cell_type": "code",
   "execution_count": null,
   "metadata": {},
   "outputs": [],
   "source": [
    "# run this cell to check your output. Don't modify this cell\n",
    "arr= [[1,2,3],\n",
    "      [4,0,1],\n",
    "      [9,3,10]]\n",
    "out= [[0,1,3],\n",
    "      [3,1,2],\n",
    "      [9,4,10]]\n",
    "\n",
    "ques_01(arr,diag=True)==out"
   ]
  },
  {
   "cell_type": "code",
   "execution_count": null,
   "metadata": {},
   "outputs": [],
   "source": [
    "# run this cell to check your output. Don't modify this cell\n",
    "arr= [[1,2,3,4,6,8],\n",
    "      [4,0,1,5,4,7]]\n",
    "\n",
    "out= [[0,1,3,4,6,8],\n",
    "      [4,1,2,5,4,7]]\n",
    "\n",
    "ques_01(arr)==out"
   ]
  },
  {
   "cell_type": "code",
   "execution_count": null,
   "metadata": {},
   "outputs": [],
   "source": [
    "# run this cell to check your output. Don't modify this cell\n",
    "arr= [[1,2,3,4,6,8],\n",
    "      [4,0,1,5,4,7]]\n",
    "\n",
    "out= [[1,2,0,1,5,4],\n",
    "      [4,3,4,6,8,7]]\n",
    "\n",
    "ques_01(arr,diag=False)==out"
   ]
  },
  {
   "cell_type": "markdown",
   "metadata": {},
   "source": [
    "# Question - 02"
   ]
  },
  {
   "cell_type": "raw",
   "metadata": {},
   "source": [
    "You are given a list of lists. \n",
    "For example, [ [1] , [2,5,9] , [7,4] ]\n",
    "\n",
    "Now pad the inner lists such that all of them are of same size(the size of the longest array).\n",
    "output= [ [1,0,0], [2,5,9], [7,4,0] ]"
   ]
  },
  {
   "cell_type": "raw",
   "metadata": {},
   "source": [
    "Write a function that will take two inputs - the list and a string(pre/post).\n",
    "If string is post, add zeros at the end\n",
    "If string is pre,  add zeros at the front\n",
    "If given a invalid string, return a error message - \"Invalid Input\""
   ]
  },
  {
   "cell_type": "code",
   "execution_count": 2,
   "metadata": {},
   "outputs": [],
   "source": [
    "def ques_02(arr, s):\n",
    "    \n",
    "    return"
   ]
  },
  {
   "cell_type": "code",
   "execution_count": null,
   "metadata": {},
   "outputs": [],
   "source": [
    "# run this cell to check your output. Don't modify this cell\n",
    "\n",
    "arr= [ [1] , [2,5,9] , [7,4] ]\n",
    "s= 'post'\n",
    "out= [[1,0,0], [2,5,9], [7,4,0] ]\n",
    "\n",
    "\n",
    "ques_02(arr,s)==out"
   ]
  },
  {
   "cell_type": "code",
   "execution_count": null,
   "metadata": {},
   "outputs": [],
   "source": [
    "# run this cell to check your output. Don't modify this cell\n",
    "\n",
    "arr= [ [1] , [2,5,9] , [7,4] ]\n",
    "s= 'p'\n",
    "out= [[1,0,0], [2,5,9], [7,4,0] ]\n",
    "\n",
    "\n",
    "ques_02(arr,s)=='Invalid Input'"
   ]
  },
  {
   "cell_type": "code",
   "execution_count": null,
   "metadata": {},
   "outputs": [],
   "source": [
    "# run this cell to check your output. Don't modify this cell\n",
    "\n",
    "arr= [ [1] , [2,5,9,6,1] , [7,4,4,3,1] ]\n",
    "s= 'pre'\n",
    "out= [[0,0,0,0,1], [2,5,9,6,1],  [7,4,4,3,1] ]\n",
    "\n",
    "ques_02(arr,s)==out"
   ]
  },
  {
   "cell_type": "markdown",
   "metadata": {},
   "source": [
    "# Ques - 03"
   ]
  },
  {
   "cell_type": "raw",
   "metadata": {},
   "source": [
    "A sphenic number is a positive integer that is the product of three distinct prime numbers.\n",
    "For example, 30 = 2*3*5\n"
   ]
  },
  {
   "cell_type": "raw",
   "metadata": {},
   "source": [
    "Given a number, first check if it is a sphenic number; if so return those primes.\n",
    "If not return False."
   ]
  },
  {
   "cell_type": "raw",
   "metadata": {},
   "source": [
    "Input:  [ 30, 32, 230]\n",
    "Output: [ [2,3,5], False, [2,5,23] ]"
   ]
  },
  {
   "cell_type": "code",
   "execution_count": 3,
   "metadata": {},
   "outputs": [],
   "source": [
    "def ques_03(arr):\n",
    "    \n",
    "    return"
   ]
  },
  {
   "cell_type": "code",
   "execution_count": null,
   "metadata": {},
   "outputs": [],
   "source": [
    "# run this cell to check your output. Don't modify this cell\n",
    "\n",
    "Input=  [ 30, 32, 230]\n",
    "Output= [ [2,3,5], False, [2,5,23] ]\n",
    "\n",
    "ques_03(Input)==Output"
   ]
  },
  {
   "cell_type": "code",
   "execution_count": null,
   "metadata": {},
   "outputs": [],
   "source": [
    "# run this cell to check your output. Don't modify this cell\n",
    "\n",
    "Input=  [ 222, 434, 969, 1311]\n",
    "Output= [ [2,3,37], [2,7,31], [3,17,19], [3,19,23] ]\n",
    "\n",
    "ques_03(Input)==Output"
   ]
  },
  {
   "cell_type": "code",
   "execution_count": null,
   "metadata": {},
   "outputs": [],
   "source": [
    "# run this cell to check your output. Don't modify this cell\n",
    "\n",
    "Input=  [ 22, 43]\n",
    "Output= [ False, False ]\n",
    "\n",
    "ques_03(Input)==Output"
   ]
  },
  {
   "cell_type": "markdown",
   "metadata": {},
   "source": [
    "# Question - 04"
   ]
  },
  {
   "cell_type": "raw",
   "metadata": {},
   "source": [
    "Connect four is a two player board game.\n",
    "<https://en.wikipedia.org/wiki/Connect_Four>\n",
    "\n",
    "Given a complete connect-four board, determine who is the winner.\n",
    "\n",
    "User-1 is represented by 1\n",
    "User-2 is represented by 2\n",
    "\n",
    "Winner is the one with the highest number of sets of 4 consecutive numbers. A set can be comprised of same numbers on row, column, diagonal or anti-diagonal basis.\n",
    "\n"
   ]
  },
  {
   "cell_type": "raw",
   "metadata": {},
   "source": [
    "x= [2 2 1 1 2 1 2;\n",
    "    1 2 2 1 1 1 1;\n",
    "    1 2 1 1 2 2 2;\n",
    "    2 1 2 2 2 1 1;\n",
    "    1 1 2 1 2 1 1;\n",
    "    2 1 1 2 2 2 1]\n",
    "\n",
    " here in the 5th column, we've a set of 2;\n",
    "\n",
    "      in the 2nd row, we've a set of 1;\n",
    "\n",
    "      in the 2nd anti-diagonal, we've a set of 1;\n",
    "\n",
    " so, 1 is the winner."
   ]
  },
  {
   "cell_type": "raw",
   "metadata": {},
   "source": [
    "For simplicity, ignore the diagonal and anti-diagonal matches for now.\n",
    "only consider row or column wise."
   ]
  },
  {
   "cell_type": "raw",
   "metadata": {},
   "source": [
    "To simplify even further, consider number of consecutive elements will not be greater than 4."
   ]
  },
  {
   "cell_type": "raw",
   "metadata": {},
   "source": [
    "write a function that will take a 2D array as input.\n",
    "\n",
    "return the winner - 1 or 2.\n",
    "If it is a tie, return 0."
   ]
  },
  {
   "cell_type": "code",
   "execution_count": 1,
   "metadata": {},
   "outputs": [],
   "source": [
    "def ques_04(n):\n",
    "    \n",
    "    return"
   ]
  },
  {
   "cell_type": "code",
   "execution_count": null,
   "metadata": {},
   "outputs": [],
   "source": [
    "# run this cell to check your output. Don't modify this cell\n",
    "\n",
    "x= [[2, 2, 1, 1, 2, 1, 2],\n",
    "    [1, 2, 2, 1, 1, 1, 1],\n",
    "    [1, 2, 1, 1, 2, 1, 2],\n",
    "    [1, 2, 2, 2, 2, 1, 1]]\n",
    "y=0\n",
    "\n",
    "ques_04(x)==y"
   ]
  },
  {
   "cell_type": "code",
   "execution_count": null,
   "metadata": {},
   "outputs": [],
   "source": [
    "# run this cell to check your output. Don't modify this cell\n",
    "\n",
    "x= [[2, 2, 1, 1, 2, 1, 1],\n",
    "    [1, 2, 2, 1, 1, 1, 1],\n",
    "    [1, 2, 1, 1, 2, 1, 1],\n",
    "    [1, 2, 2, 2, 2, 1, 1]]\n",
    "y=1\n",
    "\n",
    "ques_04(x)==y"
   ]
  },
  {
   "cell_type": "code",
   "execution_count": null,
   "metadata": {},
   "outputs": [],
   "source": [
    "# run this cell to check your output. Don't modify this cell\n",
    "\n",
    "x= [[2, 2, 1, 1, 2],\n",
    "    [1, 2, 2, 2, 2],\n",
    "    [1, 2, 1, 1, 2],\n",
    "    [1, 2, 2, 2, 2]]\n",
    "y=2\n",
    "\n",
    "ques_04(x)==y"
   ]
  },
  {
   "cell_type": "markdown",
   "metadata": {},
   "source": [
    "# Question - 05"
   ]
  },
  {
   "cell_type": "raw",
   "metadata": {},
   "source": [
    "You are given a 2D array of size (m,n).\n",
    "Find the top 3 elements in the array and their index.\n",
    "   \n",
    "You've to return a dictionary. \n",
    "   "
   ]
  },
  {
   "cell_type": "raw",
   "metadata": {},
   "source": [
    "input= [[1,2,3],\n",
    "        [4,0,1],\n",
    "        [9,3,10]]\n",
    "\n",
    "output= { 'h1': { 'value': 10,\n",
    "                  'index': [2,2] },\n",
    "          'h2': { 'value': 9,\n",
    "                  'index': [2,0] },\n",
    "          'h3': { 'value': 4,\n",
    "                  'index': [1,0] } }"
   ]
  },
  {
   "cell_type": "code",
   "execution_count": 2,
   "metadata": {},
   "outputs": [],
   "source": [
    "def ques_05(arr):\n",
    "    \n",
    "    \n",
    "    return"
   ]
  },
  {
   "cell_type": "code",
   "execution_count": null,
   "metadata": {},
   "outputs": [],
   "source": [
    "# run this cell to check your output. Don't modify this cell\n",
    "\n",
    "arr= [[1,2,24],\n",
    "      [4,0,1],\n",
    "      [9,3,10],\n",
    "      [23,4,40],\n",
    "      [25,100,9]]\n",
    "\n",
    "output= { 'h1': { 'value': 100,\n",
    "                  'index': [4,1] },\n",
    "          'h2': { 'value': 40,\n",
    "                  'index': [3,2] },\n",
    "          'h3': { 'value': 25,\n",
    "                  'index': [4,0] } }\n",
    "\n",
    "ques_05(arr)==output"
   ]
  },
  {
   "cell_type": "code",
   "execution_count": null,
   "metadata": {},
   "outputs": [],
   "source": [
    "# run this cell to check your output. Don't modify this cell\n",
    "\n",
    "arr= [[1,2,3],\n",
    "      [4,0,1],\n",
    "      [9,3,10]]\n",
    "\n",
    "output= { 'h1': { 'value': 10,\n",
    "                  'index': [2,2] },\n",
    "          'h2': { 'value': 9,\n",
    "                  'index': [2,0] },\n",
    "          'h3': { 'value': 4,\n",
    "                  'index': [1,0] } }\n",
    "\n",
    "ques_05(arr)==output"
   ]
  },
  {
   "cell_type": "markdown",
   "metadata": {},
   "source": [
    "# Question - 06"
   ]
  },
  {
   "cell_type": "raw",
   "metadata": {},
   "source": [
    "Given a matrix of size (m,n) - \n",
    "Find the final state of the matrix assuming the matrix as an abelian sandpile. \n",
    "Think of the elements in the matrix as a pile of grains.\n",
    "\n",
    "By final state it means, all the elements in the matrix should be <4.\n",
    "\n",
    "Any elements greater than 4 should be evenly distributed around it i.e. distribute four sand grains, one each to the elements above, below, left and right. Continue doing this until all the piles(elements) in the matrix is less than 4."
   ]
  },
  {
   "cell_type": "raw",
   "metadata": {},
   "source": [
    "input: [ 0 0 0 0\n",
    "         0 0 4 0\n",
    "         0 0 0 0 ]\n",
    "         \n",
    "output: [ 0 0 1 0\n",
    "          0 1 0 1\n",
    "          0 0 1 0 ]"
   ]
  },
  {
   "cell_type": "raw",
   "metadata": {},
   "source": [
    "input: [ 0 0 0 0\n",
    "         0 4 4 0\n",
    "         0 0 0 0 ]\n",
    "         \n",
    "output: [ 0 1 1 0\n",
    "          1 1 1 1\n",
    "          0 1 1 0 ]"
   ]
  },
  {
   "cell_type": "raw",
   "metadata": {},
   "source": [
    "input: [ 3 0 0  0 3 0\n",
    "         0 0 0  0 0 0\n",
    "         0 0 15 0 5 0 \n",
    "         0 0 0  0 0 0\n",
    "         0 0 0  0 0 0]\n",
    "         \n",
    "       [ 3 0 0 0 3 0\n",
    "         0 0 3 0 1 0\n",
    "         0 3 3 4 1 1\n",
    "         0 0 3 0 1 0\n",
    "         0 0 0 0 0 0 ]\n",
    "     # not the final stage.. you need to continue until all are less than 4."
   ]
  },
  {
   "cell_type": "code",
   "execution_count": 4,
   "metadata": {},
   "outputs": [],
   "source": [
    "def ques_06(a):\n",
    "    \n",
    "    \n",
    "    return"
   ]
  },
  {
   "cell_type": "code",
   "execution_count": null,
   "metadata": {},
   "outputs": [],
   "source": [
    "# run this cell to check your output. Don't modify this cell\n",
    "\n",
    "a= [ [0, 0, 0, 0],\n",
    "     [0, 0, 4, 0],\n",
    "     [0, 0, 0, 0] ]\n",
    "\n",
    "out=  [ [0, 0, 1, 0],\n",
    "        [0, 1, 0, 1],\n",
    "        [0, 0, 1, 0] ]\n",
    "\n",
    "ques_06(a)==out"
   ]
  },
  {
   "cell_type": "code",
   "execution_count": null,
   "metadata": {},
   "outputs": [],
   "source": [
    "# run this cell to check your output. Don't modify this cell\n",
    "\n",
    "a= [ [0, 0, 0, 0],\n",
    "     [0, 4, 4, 0],\n",
    "     [0, 0, 0, 0] ]\n",
    "\n",
    "out=  [ [0, 1, 1, 0],\n",
    "        [1, 1, 1, 1],\n",
    "        [0, 1, 1, 0] ]\n",
    "\n",
    "ques_06(a)==out"
   ]
  },
  {
   "cell_type": "code",
   "execution_count": null,
   "metadata": {},
   "outputs": [],
   "source": [
    "# run this cell to check your output. Don't modify this cell\n",
    "\n",
    "a= [ [0, 0, 0, 1],\n",
    "     [2, 1, 3, 0],\n",
    "     [0, 2, 0, 3] ]\n",
    "\n",
    "out=  [ [0, 0, 0, 1],\n",
    "        [2, 1, 3, 0],\n",
    "        [0, 2, 0, 3] ]\n",
    "\n",
    "ques_06(a)==out"
   ]
  },
  {
   "cell_type": "code",
   "execution_count": null,
   "metadata": {},
   "outputs": [],
   "source": [
    "# run this cell to check your output. Don't modify this cell\n",
    "import numpy as np\n",
    "\n",
    "a= np.random.randint(0,4,(4,10))\n",
    "\n",
    "out=a\n",
    "\n",
    "ques_06(a)==out"
   ]
  },
  {
   "cell_type": "code",
   "execution_count": null,
   "metadata": {},
   "outputs": [],
   "source": [
    "# run this cell to check your output. Don't modify this cell\n",
    "\n",
    "a= [ [0, 0, 1, 0],\n",
    "     [2, 0, 9, 0],\n",
    "     [0, 3, 0, 0] ]\n",
    "\n",
    "out=  [ [0, 0, 3, 0],\n",
    "        [2, 2, 1, 2],\n",
    "        [0, 3, 2, 0] ]\n",
    "\n",
    "ques_06(a)==out"
   ]
  }
 ],
 "metadata": {
  "kernelspec": {
   "display_name": "Python 3",
   "language": "python",
   "name": "python3"
  },
  "language_info": {
   "codemirror_mode": {
    "name": "ipython",
    "version": 3
   },
   "file_extension": ".py",
   "mimetype": "text/x-python",
   "name": "python",
   "nbconvert_exporter": "python",
   "pygments_lexer": "ipython3",
   "version": "3.7.6"
  }
 },
 "nbformat": 4,
 "nbformat_minor": 4
}
