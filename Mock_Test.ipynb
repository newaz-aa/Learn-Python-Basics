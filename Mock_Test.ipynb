{
 "cells": [
  {
   "cell_type": "markdown",
   "metadata": {},
   "source": [
    "# Ques - 01"
   ]
  },
  {
   "cell_type": "raw",
   "metadata": {},
   "source": [
    "Create a bullseye matrix following way --\n",
    "for n=3,\n",
    "output = [ [3,3,3,3,3],\n",
    "           [3,2,2,2,3],\n",
    "           [3,2,1,2,3],\n",
    "           [3,2,2,2,3],\n",
    "           [3,3,3,3,3] ]\n",
    "\n",
    "write a function that will take an integer(n) as the input.\n",
    "n=4\n",
    "output=  [ [4,4,4,4,4,4,4],\n",
    "           [4,3,3,3,3,3,4],\n",
    "           [4,3,2,2,2,3,4],\n",
    "           [4,3,2,1,2,3,4],\n",
    "           [4,3,2,2,2,3,4],\n",
    "           [4,3,3,3,3,3,4] ]"
   ]
  },
  {
   "cell_type": "code",
   "execution_count": 1,
   "metadata": {},
   "outputs": [],
   "source": [
    "def ques_01(n):\n",
    "    \n",
    "    return"
   ]
  },
  {
   "cell_type": "markdown",
   "metadata": {},
   "source": [
    "# Ques - 02"
   ]
  },
  {
   "cell_type": "raw",
   "metadata": {},
   "source": [
    "Say you are in a shop and you only have coins of 5,4,2,1 with you.\n",
    "You need to return amount  'n' to the shopkeeper.\n",
    "What is the minimum amount of coins do you need for that?"
   ]
  },
  {
   "cell_type": "raw",
   "metadata": {},
   "source": [
    "input: 10\n",
    "output: 2  [ 5,5]"
   ]
  },
  {
   "cell_type": "raw",
   "metadata": {},
   "source": [
    "input: 13\n",
    "output: 2  [ 5,4,4] "
   ]
  },
  {
   "cell_type": "raw",
   "metadata": {},
   "source": [
    "input: 8\n",
    "output: 2  [ 4,4]\n",
    " \n",
    " # [5,2,1] is also possible but not the optimum way."
   ]
  },
  {
   "cell_type": "code",
   "execution_count": null,
   "metadata": {},
   "outputs": [],
   "source": [
    "def ques_02(n):\n",
    "    \n",
    "    return"
   ]
  }
 ],
 "metadata": {
  "kernelspec": {
   "display_name": "Python 3",
   "language": "python",
   "name": "python3"
  },
  "language_info": {
   "codemirror_mode": {
    "name": "ipython",
    "version": 3
   },
   "file_extension": ".py",
   "mimetype": "text/x-python",
   "name": "python",
   "nbconvert_exporter": "python",
   "pygments_lexer": "ipython3",
   "version": "3.7.6"
  }
 },
 "nbformat": 4,
 "nbformat_minor": 4
}
